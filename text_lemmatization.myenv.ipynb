{
 "cells": [
  {
   "cell_type": "code",
   "execution_count": 1,
   "id": "1aa0bce4-8d5e-4992-9b54-d28d9e9cdfc3",
   "metadata": {},
   "outputs": [
    {
     "name": "stdout",
     "output_type": "stream",
     "text": [
      "Defaulting to user installation because normal site-packages is not writeable\n",
      "Requirement already satisfied: spacy in c:\\users\\asus\\appdata\\roaming\\python\\python312\\site-packages (3.8.7)\n",
      "Requirement already satisfied: python-dotenv in a:\\users\\asus\\onedrive\\desktop\\lib\\site-packages (0.21.0)\n",
      "Requirement already satisfied: spacy-legacy<3.1.0,>=3.0.11 in c:\\users\\asus\\appdata\\roaming\\python\\python312\\site-packages (from spacy) (3.0.12)\n",
      "Requirement already satisfied: spacy-loggers<2.0.0,>=1.0.0 in c:\\users\\asus\\appdata\\roaming\\python\\python312\\site-packages (from spacy) (1.0.5)\n",
      "Requirement already satisfied: murmurhash<1.1.0,>=0.28.0 in c:\\users\\asus\\appdata\\roaming\\python\\python312\\site-packages (from spacy) (1.0.13)\n",
      "Requirement already satisfied: cymem<2.1.0,>=2.0.2 in c:\\users\\asus\\appdata\\roaming\\python\\python312\\site-packages (from spacy) (2.0.11)\n",
      "Requirement already satisfied: preshed<3.1.0,>=3.0.2 in c:\\users\\asus\\appdata\\roaming\\python\\python312\\site-packages (from spacy) (3.0.10)\n",
      "Requirement already satisfied: thinc<8.4.0,>=8.3.4 in c:\\users\\asus\\appdata\\roaming\\python\\python312\\site-packages (from spacy) (8.3.6)\n",
      "Requirement already satisfied: wasabi<1.2.0,>=0.9.1 in c:\\users\\asus\\appdata\\roaming\\python\\python312\\site-packages (from spacy) (1.1.3)\n",
      "Requirement already satisfied: srsly<3.0.0,>=2.4.3 in c:\\users\\asus\\appdata\\roaming\\python\\python312\\site-packages (from spacy) (2.5.1)\n",
      "Requirement already satisfied: catalogue<2.1.0,>=2.0.6 in c:\\users\\asus\\appdata\\roaming\\python\\python312\\site-packages (from spacy) (2.0.10)\n",
      "Requirement already satisfied: weasel<0.5.0,>=0.1.0 in c:\\users\\asus\\appdata\\roaming\\python\\python312\\site-packages (from spacy) (0.4.1)\n",
      "Requirement already satisfied: typer<1.0.0,>=0.3.0 in c:\\users\\asus\\appdata\\roaming\\python\\python312\\site-packages (from spacy) (0.16.0)\n",
      "Requirement already satisfied: tqdm<5.0.0,>=4.38.0 in a:\\users\\asus\\onedrive\\desktop\\lib\\site-packages (from spacy) (4.66.5)\n",
      "Requirement already satisfied: numpy>=1.19.0 in c:\\users\\asus\\appdata\\roaming\\python\\python312\\site-packages (from spacy) (2.2.6)\n",
      "Requirement already satisfied: requests<3.0.0,>=2.13.0 in a:\\users\\asus\\onedrive\\desktop\\lib\\site-packages (from spacy) (2.32.3)\n",
      "Requirement already satisfied: pydantic!=1.8,!=1.8.1,<3.0.0,>=1.7.4 in a:\\users\\asus\\onedrive\\desktop\\lib\\site-packages (from spacy) (2.8.2)\n",
      "Requirement already satisfied: jinja2 in a:\\users\\asus\\onedrive\\desktop\\lib\\site-packages (from spacy) (3.1.4)\n",
      "Requirement already satisfied: setuptools in a:\\users\\asus\\onedrive\\desktop\\lib\\site-packages (from spacy) (75.1.0)\n",
      "Requirement already satisfied: packaging>=20.0 in a:\\users\\asus\\onedrive\\desktop\\lib\\site-packages (from spacy) (24.1)\n",
      "Requirement already satisfied: langcodes<4.0.0,>=3.2.0 in c:\\users\\asus\\appdata\\roaming\\python\\python312\\site-packages (from spacy) (3.5.0)\n",
      "Requirement already satisfied: language-data>=1.2 in c:\\users\\asus\\appdata\\roaming\\python\\python312\\site-packages (from langcodes<4.0.0,>=3.2.0->spacy) (1.3.0)\n",
      "Requirement already satisfied: annotated-types>=0.4.0 in a:\\users\\asus\\onedrive\\desktop\\lib\\site-packages (from pydantic!=1.8,!=1.8.1,<3.0.0,>=1.7.4->spacy) (0.6.0)\n",
      "Requirement already satisfied: pydantic-core==2.20.1 in a:\\users\\asus\\onedrive\\desktop\\lib\\site-packages (from pydantic!=1.8,!=1.8.1,<3.0.0,>=1.7.4->spacy) (2.20.1)\n",
      "Requirement already satisfied: typing-extensions>=4.6.1 in a:\\users\\asus\\onedrive\\desktop\\lib\\site-packages (from pydantic!=1.8,!=1.8.1,<3.0.0,>=1.7.4->spacy) (4.11.0)\n",
      "Requirement already satisfied: charset-normalizer<4,>=2 in a:\\users\\asus\\onedrive\\desktop\\lib\\site-packages (from requests<3.0.0,>=2.13.0->spacy) (3.3.2)\n",
      "Requirement already satisfied: idna<4,>=2.5 in a:\\users\\asus\\onedrive\\desktop\\lib\\site-packages (from requests<3.0.0,>=2.13.0->spacy) (3.7)\n",
      "Requirement already satisfied: urllib3<3,>=1.21.1 in a:\\users\\asus\\onedrive\\desktop\\lib\\site-packages (from requests<3.0.0,>=2.13.0->spacy) (2.2.3)\n",
      "Requirement already satisfied: certifi>=2017.4.17 in a:\\users\\asus\\onedrive\\desktop\\lib\\site-packages (from requests<3.0.0,>=2.13.0->spacy) (2024.8.30)\n",
      "Requirement already satisfied: blis<1.4.0,>=1.3.0 in c:\\users\\asus\\appdata\\roaming\\python\\python312\\site-packages (from thinc<8.4.0,>=8.3.4->spacy) (1.3.0)\n",
      "Requirement already satisfied: confection<1.0.0,>=0.0.1 in c:\\users\\asus\\appdata\\roaming\\python\\python312\\site-packages (from thinc<8.4.0,>=8.3.4->spacy) (0.1.5)\n",
      "Requirement already satisfied: colorama in a:\\users\\asus\\onedrive\\desktop\\lib\\site-packages (from tqdm<5.0.0,>=4.38.0->spacy) (0.4.6)\n",
      "Requirement already satisfied: click>=8.0.0 in a:\\users\\asus\\onedrive\\desktop\\lib\\site-packages (from typer<1.0.0,>=0.3.0->spacy) (8.1.7)\n",
      "Requirement already satisfied: shellingham>=1.3.0 in c:\\users\\asus\\appdata\\roaming\\python\\python312\\site-packages (from typer<1.0.0,>=0.3.0->spacy) (1.5.4)\n",
      "Requirement already satisfied: rich>=10.11.0 in a:\\users\\asus\\onedrive\\desktop\\lib\\site-packages (from typer<1.0.0,>=0.3.0->spacy) (13.7.1)\n",
      "Requirement already satisfied: cloudpathlib<1.0.0,>=0.7.0 in c:\\users\\asus\\appdata\\roaming\\python\\python312\\site-packages (from weasel<0.5.0,>=0.1.0->spacy) (0.21.1)\n",
      "Requirement already satisfied: smart-open<8.0.0,>=5.2.1 in a:\\users\\asus\\onedrive\\desktop\\lib\\site-packages (from weasel<0.5.0,>=0.1.0->spacy) (5.2.1)\n",
      "Requirement already satisfied: MarkupSafe>=2.0 in a:\\users\\asus\\onedrive\\desktop\\lib\\site-packages (from jinja2->spacy) (2.1.3)\n",
      "Requirement already satisfied: marisa-trie>=1.1.0 in c:\\users\\asus\\appdata\\roaming\\python\\python312\\site-packages (from language-data>=1.2->langcodes<4.0.0,>=3.2.0->spacy) (1.2.1)\n",
      "Requirement already satisfied: markdown-it-py>=2.2.0 in a:\\users\\asus\\onedrive\\desktop\\lib\\site-packages (from rich>=10.11.0->typer<1.0.0,>=0.3.0->spacy) (2.2.0)\n",
      "Requirement already satisfied: pygments<3.0.0,>=2.13.0 in a:\\users\\asus\\onedrive\\desktop\\lib\\site-packages (from rich>=10.11.0->typer<1.0.0,>=0.3.0->spacy) (2.15.1)\n",
      "Requirement already satisfied: mdurl~=0.1 in a:\\users\\asus\\onedrive\\desktop\\lib\\site-packages (from markdown-it-py>=2.2.0->rich>=10.11.0->typer<1.0.0,>=0.3.0->spacy) (0.1.0)\n"
     ]
    }
   ],
   "source": [
    "!pip install spacy python-dotenv"
   ]
  },
  {
   "cell_type": "code",
   "execution_count": 2,
   "id": "891b9bbe-c144-41f6-ac29-8a7313e64784",
   "metadata": {},
   "outputs": [
    {
     "name": "stdout",
     "output_type": "stream",
     "text": [
      "Defaulting to user installation because normal site-packages is not writeable\n",
      "Collecting en-core-web-sm==3.8.0\n",
      "  Downloading https://github.com/explosion/spacy-models/releases/download/en_core_web_sm-3.8.0/en_core_web_sm-3.8.0-py3-none-any.whl (12.8 MB)\n",
      "     ---------------------------------------- 0.0/12.8 MB ? eta -:--:--\n",
      "      --------------------------------------- 0.3/12.8 MB ? eta -:--:--\n",
      "     - -------------------------------------- 0.5/12.8 MB 2.1 MB/s eta 0:00:06\n",
      "     ---- ----------------------------------- 1.3/12.8 MB 2.4 MB/s eta 0:00:05\n",
      "     ----- ---------------------------------- 1.8/12.8 MB 2.5 MB/s eta 0:00:05\n",
      "     -------- ------------------------------- 2.6/12.8 MB 2.8 MB/s eta 0:00:04\n",
      "     ---------- ----------------------------- 3.4/12.8 MB 2.9 MB/s eta 0:00:04\n",
      "     ------------ --------------------------- 3.9/12.8 MB 3.1 MB/s eta 0:00:03\n",
      "     --------------- ------------------------ 5.0/12.8 MB 3.2 MB/s eta 0:00:03\n",
      "     ------------------ --------------------- 6.0/12.8 MB 3.4 MB/s eta 0:00:02\n",
      "     ---------------------- ----------------- 7.1/12.8 MB 3.6 MB/s eta 0:00:02\n",
      "     -------------------------- ------------- 8.4/12.8 MB 3.9 MB/s eta 0:00:02\n",
      "     ------------------------------ --------- 9.7/12.8 MB 4.1 MB/s eta 0:00:01\n",
      "     ---------------------------------- ----- 11.0/12.8 MB 4.2 MB/s eta 0:00:01\n",
      "     -------------------------------------- - 12.3/12.8 MB 4.4 MB/s eta 0:00:01\n",
      "     ---------------------------------------- 12.8/12.8 MB 4.4 MB/s eta 0:00:00\n",
      "\u001b[38;5;2m[+] Download and installation successful\u001b[0m\n",
      "You can now load the package via spacy.load('en_core_web_sm')\n"
     ]
    }
   ],
   "source": [
    "!python -m spacy download en_core_web_sm"
   ]
  },
  {
   "cell_type": "code",
   "execution_count": 6,
   "id": "da1378b4-3864-4636-a0fc-5ecf2fe2d04a",
   "metadata": {},
   "outputs": [
    {
     "name": "stderr",
     "output_type": "stream",
     "text": [
      "Lemmatizing narratives: 100%|██████████| 478421/478421 [1:03:07<00:00, 126.30it/s]\n"
     ]
    },
    {
     "name": "stdout",
     "output_type": "stream",
     "text": [
      "Lemmatization complete. Results saved to complaints_with_lemmatized.csv\n"
     ]
    }
   ],
   "source": [
    "# Use spaCy to lemmatize narrative text\n",
    "\n",
    "import pandas as pd\n",
    "import spacy\n",
    "from tqdm import tqdm\n",
    "\n",
    "# Load the dataset\n",
    "df = pd.read_csv(\"A:\\\\Users\\\\ASUS\\\\Desktop\\\\cleaned_complaints.csv\")\n",
    "\n",
    "# Rename 'description' to 'Cleaned Narrative' if needed\n",
    "if 'description' in df.columns:\n",
    "    df.rename(columns={'description': 'Cleaned Narrative'}, inplace=True)\n",
    "\n",
    "# Initialize spaCy with the English language model\n",
    "nlp = spacy.load('en_core_web_sm', disable=['parser', 'ner'])\n",
    "\n",
    "# Function to lemmatize and filter stopwords and short words\n",
    "def lemmatize_text(text):\n",
    "    if pd.isna(text) or text.strip() == \"\":\n",
    "        return \"\"\n",
    "    \n",
    "    doc = nlp(text)\n",
    "    lemmatized = [\n",
    "        token.lemma_ for token in doc\n",
    "        if not token.is_stop and not token.is_punct and not token.is_space and token.is_alpha and len(token.text) >= 3\n",
    "    ]\n",
    "    return ' '.join(lemmatized)\n",
    "\n",
    "# Apply lemmatization with progress bar\n",
    "tqdm.pandas(desc=\"Lemmatizing narratives\")\n",
    "df['Lemmatized_Narrative'] = df['Cleaned Narrative'].progress_apply(lemmatize_text)\n",
    "\n",
    "# Reset index and select only required columns\n",
    "df_reset = df[['Cleaned Narrative', 'Lemmatized_Narrative']].reset_index()\n",
    "\n",
    "# Save to CSV\n",
    "df_reset.to_csv('complaints_with_lemmatized.csv', index=False)\n",
    "print(\"Lemmatization complete. Results saved to complaints_with_lemmatized.csv\")\n"
   ]
  },
  {
   "cell_type": "code",
   "execution_count": 7,
   "id": "a9a373bc-7950-4140-b633-9cb3d5eb783e",
   "metadata": {},
   "outputs": [
    {
     "name": "stdout",
     "output_type": "stream",
     "text": [
      "Original 'Cleaned Narrative' (first 5 rows):\n",
      "0                                                  NaN\n",
      "1                                                  NaN\n",
      "2                                                  NaN\n",
      "3    my credit card statement from us bank xxxx xxx...\n",
      "4                                                  NaN\n",
      "\n",
      "'Filtered Narrative' (short words removed, first 5 rows):\n",
      "0                                                     \n",
      "1                                                     \n",
      "2                                                     \n",
      "3    credit card statement from bank xxxx xxxx xxxx...\n",
      "4                                                     \n"
     ]
    }
   ],
   "source": [
    "# Filter out short words (<3 characters)\n",
    "\n",
    "import pandas as pd\n",
    "\n",
    "df = pd.read_csv(\"A:\\\\Users\\\\ASUS\\\\Desktop\\\\cleaned_complaints.csv\")\n",
    "\n",
    "text_column = 'Cleaned Narrative'\n",
    "\n",
    "\n",
    "if text_column in df.columns:\n",
    "    \n",
    "    def filter_short_words(text):\n",
    "        if pd.isna(text):  \n",
    "            return ''  \n",
    "        words = str(text).split()  \n",
    "       \n",
    "        filtered_words = [word for word in words if len(word) >= 3]\n",
    "        return ' '.join(filtered_words)\n",
    "\n",
    "    df['Filtered Narrative'] = df[text_column].apply(filter_short_words)\n",
    "\n",
    "    print(\"Original 'Cleaned Narrative' (first 5 rows):\")\n",
    "    print(df[text_column].head().to_string()) # Using .to_string() for better display of full content\n",
    "\n",
    "    print(\"\\n'Filtered Narrative' (short words removed, first 5 rows):\")\n",
    "    print(df['Filtered Narrative'].head().to_string()) # Using .to_string() for better display of full content\n",
    "\n",
    "    df.to_csv(\"small_cleaned_complaints_with_filtered_narrative.csv\", index=False)\n",
    "\n",
    "else:\n",
    "    print(f\"Error: The column '{text_column}' was not found in the dataset.\")\n",
    "    print(f\"Available columns are: {df.columns.tolist()}\")"
   ]
  },
  {
   "cell_type": "code",
   "execution_count": 21,
   "id": "140ab831-b466-4d19-9479-9d8acd63fdb0",
   "metadata": {},
   "outputs": [
    {
     "name": "stdout",
     "output_type": "stream",
     "text": [
      "Reinitialized existing Git repository in C:/Users/ASUS/Desktop/HimanshiPython/.git/\n"
     ]
    }
   ],
   "source": [
    "!git init"
   ]
  },
  {
   "cell_type": "code",
   "execution_count": 24,
   "id": "61bd96c5-6047-4937-b56a-575a9b9d5770",
   "metadata": {},
   "outputs": [
    {
     "name": "stderr",
     "output_type": "stream",
     "text": [
      "error: src refspec main does not match any\n",
      "error: failed to push some refs to 'origin'\n"
     ]
    }
   ],
   "source": [
    " !git push origin main"
   ]
  }
 ],
 "metadata": {
  "kernelspec": {
   "display_name": "Python (myenv)",
   "language": "python",
   "name": "myenv"
  },
  "language_info": {
   "codemirror_mode": {
    "name": "ipython",
    "version": 3
   },
   "file_extension": ".py",
   "mimetype": "text/x-python",
   "name": "python",
   "nbconvert_exporter": "python",
   "pygments_lexer": "ipython3",
   "version": "3.12.3"
  }
 },
 "nbformat": 4,
 "nbformat_minor": 5
}
